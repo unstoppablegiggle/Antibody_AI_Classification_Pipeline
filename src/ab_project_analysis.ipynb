{
 "cells": [
  {
   "cell_type": "markdown",
   "source": [
    "## Antibody Classifier Analysis\n",
    "\n",
    "### Introduction\n",
    "\n",
    "This report will present final analysis on processed antibody data acquired from [OAS](https://opig.stats.ox.ac.uk/webapps/oas/) and the [Therapeutic Structural Antibody Database](https://opig.stats.ox.ac.uk/webapps/sabdab-sabpred/therasabdab/search/). The purpose of this project is to take raw antibody sequences and build an automated pipeline using Snakemake that builds a processes them through a protein language model to generate embeddings which will be used to train a stacked ensemble model classifier to predict the binding potential of a given antibody sequence.\n",
    "\n",
    "#### Biological Background\n",
    "\n",
    "When considering the results of this notebook there are two key biological considerations regarding how the data was chosen the reader must be aware of. First, Bulk antibody data pulled from OAS serves as a proxy for non-binding antibodies and the TheraSabDab data serves as a proxy for binding antibodies. While this is acceptable for a machine learning project, it should be noted that a more robust approach suitable for therapeutic applications requires experimentally verified binding data. Second, in order to make the data manageable, only sequence data for the [variable heavy domain](https://www.ncbi.nlm.nih.gov/books/NBK27144/?utm_source=chatgpt.com) of a given antibody was used. [This is because the *majority* of binding variation in antibodies is determined by the variable heavy domain](https://pmc.ncbi.nlm.nih.gov/articles/PMC4941225).\n",
    "\n",
    "#### ML Approach\n"
   ],
   "metadata": {
    "collapsed": false
   },
   "id": "65609e5640cf7610"
  },
  {
   "cell_type": "code",
   "execution_count": null,
   "outputs": [],
   "source": [],
   "metadata": {
    "collapsed": false,
    "ExecuteTime": {
     "end_time": "2025-10-26T04:12:06.272170900Z",
     "start_time": "2025-10-26T04:12:06.264142500Z"
    }
   },
   "id": "87c4525a8a26c359"
  },
  {
   "cell_type": "code",
   "execution_count": null,
   "outputs": [],
   "source": [],
   "metadata": {
    "collapsed": false
   },
   "id": "997230858c4a5fcb"
  }
 ],
 "metadata": {
  "kernelspec": {
   "display_name": "Python 3",
   "language": "python",
   "name": "python3"
  },
  "language_info": {
   "codemirror_mode": {
    "name": "ipython",
    "version": 2
   },
   "file_extension": ".py",
   "mimetype": "text/x-python",
   "name": "python",
   "nbconvert_exporter": "python",
   "pygments_lexer": "ipython2",
   "version": "2.7.6"
  }
 },
 "nbformat": 4,
 "nbformat_minor": 5
}
