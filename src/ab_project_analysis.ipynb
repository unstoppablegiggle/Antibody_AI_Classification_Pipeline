{
 "cells": [
  {
   "cell_type": "markdown",
   "source": [
    "# Antibody Classifier Analysis\n",
    "\n",
    "## Introduction\n",
    "\n",
    "This report will present final analysis on processed antibody data acquired from [OAS](https://opig.stats.ox.ac.uk/webapps/oas/dataunit?unit=Briney_2019/csv/SRR8283601_1_Heavy_Bulk.csv.gz) and the [Therapeutic Structural Antibody Database](https://opig.stats.ox.ac.uk/webapps/sabdab-sabpred/therasabdab/search/). The purpose of this project is to take raw antibody sequences and build an automated pipeline using Snakemake that builds and processes them with a protein language model to generate embeddings which will be used to train a stacked ensemble model classifier to predict the binding potential of a given antibody sequence.\n",
    "\n",
    "### Biological Background and ML approach\n",
    "\n",
    "When considering the results of this notebook there are two key biological considerations regarding how the data was chosen the reader must be aware of. First, Bulk antibody data pulled from OAS serves as a proxy for non-binding antibodies and the TheraSAbDab data serves as a proxy for binding antibodies. While this is acceptable for a machine learning project, it should be noted that a more robust approach suitable for therapeutic applications requires experimentally verified binding data. Second, in order to make the data manageable, only sequence data for the [variable heavy domain](https://www.ncbi.nlm.nih.gov/books/NBK27144) of a given antibody was used. [This is because the *majority* of binding variation in antibodies is determined by the variable heavy domain](https://pmc.ncbi.nlm.nih.gov/articles/PMC4941225).\n",
    "\n",
    "The dataset for the non-binding proxy was pulled from a nature publication by [Briney et. al.](https://www.nature.com/articles/s41586-019-0879-y) the original study was focused on highlighting baseline commonalities in human antibodies despite the number of unique antibodies present approaching one trillion. Because the objective of the study was to analyse a wide range of antibody types, the data was determined to well suited to serve as a stand in for non-therapeutic binding antibodies.\n",
    "\n",
    "The dataset serving as a proxy for binding sites with therapeutic value is from TheraSAbDab. It is carefully curated to contain only antibodies with binding sites known to have therapeutic use and provides the corresponding variable domain sequence.\n",
    "\n",
    "data from both of these datasets were randomized and combined such that a 50/50 split of non-binding, and binding classes was obtained. The sequences in this data set was then fed into the 650 million parameter [esm2](https://github.com/facebookresearch/esm) model and mean-pooled sequence embeddings generated. It should be noted that an antibody specific model may produce better results than the broad protein language model chosen here given unique properties of antibodies.\n",
    "\n",
    "This new dataset with embeddings will be used to train a stacked ensemble classifier from Random Forest, Xgboost, and SVM base learners. It should be noted that other properties such as melting point, colloidal stability, solubility, etc. would likely enhance the accuracy of the model but will not be included here."
   ],
   "metadata": {
    "collapsed": false
   },
   "id": "65609e5640cf7610"
  },
  {
   "cell_type": "markdown",
   "source": [
    "## EDA\n",
    "\n",
    "A brief exploration of the data performed here will confirm the previous processing steps were correctly performed. This includes checking for class imbalance, and confirming the size of the dataset."
   ],
   "metadata": {
    "collapsed": false
   },
   "id": "2fc7780d560a1adf"
  },
  {
   "cell_type": "code",
   "execution_count": 15,
   "outputs": [],
   "source": [
    "# load packages and data\n",
    "\n",
    "import pandas as pd\n",
    "import matplotlib.pyplot as plt\n",
    "\n",
    "from sklearn.pipeline import make_pipeline\n",
    "from sklearn.model_selection import train_test_split, RandomizedSearchCV \n",
    "from sklearn.ensemble import GradientBoostingClassifier\n",
    "from sklearn.ensemble import RandomForestClassifier\n",
    "from sklearn.ensemble import StackingClassifier\n",
    "from sklearn.linear_model import LogisticRegression\n",
    "\n",
    "df = pd.read_csv(\"../data/embeds_df.csv\")"
   ],
   "metadata": {
    "collapsed": false,
    "ExecuteTime": {
     "end_time": "2025-10-26T21:13:36.444811100Z",
     "start_time": "2025-10-26T21:13:35.760286300Z"
    }
   },
   "id": "502119d76ac842ff"
  },
  {
   "cell_type": "code",
   "execution_count": 16,
   "outputs": [
    {
     "data": {
      "text/plain": "  sequence_id                                           sequence  class  \\\n0    oas_9883  GACTGGGGGGTGCCTGAGTCTCTCCTGTGCAGCCTCTCGATTGACC...      0   \n1   thera_455  EVQLVQSGAEVKKPGESLKISCKGSGYSFTSYWIGWVRQMPGKGLE...      1   \n2    oas_8500  TGCTGGGGGGTCCCTGAGCCTCTCCTGTGCAGCCTCTGGATTCACC...      0   \n3    oas_2232  CGCTGGGGGGTCCCTGAGACTCTCCTGTGCAGCCTCTGGATTCACC...      0   \n4   oas_13474  TTTGCGGGGAGTCTCTGAAGATCTCCTGTAAGGCTTCTGGATATAA...      0   \n\n     em_000    em_001    em_002    em_003    em_004    em_005    em_006  ...  \\\n0 -0.181649 -0.090733  0.036329  0.100591  0.095663  0.268051  0.090245  ...   \n1 -0.064848 -0.042365 -0.118699  0.221329 -0.188070 -0.069189  0.165545  ...   \n2 -0.194062 -0.072394  0.043490  0.090048  0.090608  0.277665  0.095308  ...   \n3 -0.175457 -0.078911  0.041559  0.102644  0.079346  0.225728  0.081930  ...   \n4 -0.170610 -0.102347  0.032305  0.112327  0.077862  0.179571  0.056705  ...   \n\n    em_1270   em_1271   em_1272   em_1273   em_1274   em_1275   em_1276  \\\n0 -0.081227 -0.208845  0.093939 -0.075376  0.015705 -0.226980 -0.140334   \n1 -0.079416 -0.063370 -0.130252 -0.024889 -0.026694 -0.039239  0.147878   \n2 -0.094786 -0.198245  0.085272 -0.049258  0.015839 -0.199463 -0.115709   \n3 -0.089858 -0.199157  0.084745 -0.035571  0.030047 -0.253706 -0.094550   \n4 -0.062803 -0.189503  0.080321 -0.022664  0.044877 -0.258741 -0.107571   \n\n    em_1277   em_1278   em_1279  \n0  0.085658  0.036633 -0.091008  \n1 -0.154017 -0.017085  0.055484  \n2  0.093589 -0.002647 -0.078949  \n3  0.077255  0.023875 -0.077019  \n4  0.060990  0.009830 -0.075434  \n\n[5 rows x 1283 columns]",
      "text/html": "<div>\n<style scoped>\n    .dataframe tbody tr th:only-of-type {\n        vertical-align: middle;\n    }\n\n    .dataframe tbody tr th {\n        vertical-align: top;\n    }\n\n    .dataframe thead th {\n        text-align: right;\n    }\n</style>\n<table border=\"1\" class=\"dataframe\">\n  <thead>\n    <tr style=\"text-align: right;\">\n      <th></th>\n      <th>sequence_id</th>\n      <th>sequence</th>\n      <th>class</th>\n      <th>em_000</th>\n      <th>em_001</th>\n      <th>em_002</th>\n      <th>em_003</th>\n      <th>em_004</th>\n      <th>em_005</th>\n      <th>em_006</th>\n      <th>...</th>\n      <th>em_1270</th>\n      <th>em_1271</th>\n      <th>em_1272</th>\n      <th>em_1273</th>\n      <th>em_1274</th>\n      <th>em_1275</th>\n      <th>em_1276</th>\n      <th>em_1277</th>\n      <th>em_1278</th>\n      <th>em_1279</th>\n    </tr>\n  </thead>\n  <tbody>\n    <tr>\n      <th>0</th>\n      <td>oas_9883</td>\n      <td>GACTGGGGGGTGCCTGAGTCTCTCCTGTGCAGCCTCTCGATTGACC...</td>\n      <td>0</td>\n      <td>-0.181649</td>\n      <td>-0.090733</td>\n      <td>0.036329</td>\n      <td>0.100591</td>\n      <td>0.095663</td>\n      <td>0.268051</td>\n      <td>0.090245</td>\n      <td>...</td>\n      <td>-0.081227</td>\n      <td>-0.208845</td>\n      <td>0.093939</td>\n      <td>-0.075376</td>\n      <td>0.015705</td>\n      <td>-0.226980</td>\n      <td>-0.140334</td>\n      <td>0.085658</td>\n      <td>0.036633</td>\n      <td>-0.091008</td>\n    </tr>\n    <tr>\n      <th>1</th>\n      <td>thera_455</td>\n      <td>EVQLVQSGAEVKKPGESLKISCKGSGYSFTSYWIGWVRQMPGKGLE...</td>\n      <td>1</td>\n      <td>-0.064848</td>\n      <td>-0.042365</td>\n      <td>-0.118699</td>\n      <td>0.221329</td>\n      <td>-0.188070</td>\n      <td>-0.069189</td>\n      <td>0.165545</td>\n      <td>...</td>\n      <td>-0.079416</td>\n      <td>-0.063370</td>\n      <td>-0.130252</td>\n      <td>-0.024889</td>\n      <td>-0.026694</td>\n      <td>-0.039239</td>\n      <td>0.147878</td>\n      <td>-0.154017</td>\n      <td>-0.017085</td>\n      <td>0.055484</td>\n    </tr>\n    <tr>\n      <th>2</th>\n      <td>oas_8500</td>\n      <td>TGCTGGGGGGTCCCTGAGCCTCTCCTGTGCAGCCTCTGGATTCACC...</td>\n      <td>0</td>\n      <td>-0.194062</td>\n      <td>-0.072394</td>\n      <td>0.043490</td>\n      <td>0.090048</td>\n      <td>0.090608</td>\n      <td>0.277665</td>\n      <td>0.095308</td>\n      <td>...</td>\n      <td>-0.094786</td>\n      <td>-0.198245</td>\n      <td>0.085272</td>\n      <td>-0.049258</td>\n      <td>0.015839</td>\n      <td>-0.199463</td>\n      <td>-0.115709</td>\n      <td>0.093589</td>\n      <td>-0.002647</td>\n      <td>-0.078949</td>\n    </tr>\n    <tr>\n      <th>3</th>\n      <td>oas_2232</td>\n      <td>CGCTGGGGGGTCCCTGAGACTCTCCTGTGCAGCCTCTGGATTCACC...</td>\n      <td>0</td>\n      <td>-0.175457</td>\n      <td>-0.078911</td>\n      <td>0.041559</td>\n      <td>0.102644</td>\n      <td>0.079346</td>\n      <td>0.225728</td>\n      <td>0.081930</td>\n      <td>...</td>\n      <td>-0.089858</td>\n      <td>-0.199157</td>\n      <td>0.084745</td>\n      <td>-0.035571</td>\n      <td>0.030047</td>\n      <td>-0.253706</td>\n      <td>-0.094550</td>\n      <td>0.077255</td>\n      <td>0.023875</td>\n      <td>-0.077019</td>\n    </tr>\n    <tr>\n      <th>4</th>\n      <td>oas_13474</td>\n      <td>TTTGCGGGGAGTCTCTGAAGATCTCCTGTAAGGCTTCTGGATATAA...</td>\n      <td>0</td>\n      <td>-0.170610</td>\n      <td>-0.102347</td>\n      <td>0.032305</td>\n      <td>0.112327</td>\n      <td>0.077862</td>\n      <td>0.179571</td>\n      <td>0.056705</td>\n      <td>...</td>\n      <td>-0.062803</td>\n      <td>-0.189503</td>\n      <td>0.080321</td>\n      <td>-0.022664</td>\n      <td>0.044877</td>\n      <td>-0.258741</td>\n      <td>-0.107571</td>\n      <td>0.060990</td>\n      <td>0.009830</td>\n      <td>-0.075434</td>\n    </tr>\n  </tbody>\n</table>\n<p>5 rows × 1283 columns</p>\n</div>"
     },
     "execution_count": 16,
     "metadata": {},
     "output_type": "execute_result"
    }
   ],
   "source": [
    "df.head()"
   ],
   "metadata": {
    "collapsed": false,
    "ExecuteTime": {
     "end_time": "2025-10-26T21:13:36.449846200Z",
     "start_time": "2025-10-26T21:13:36.444811100Z"
    }
   },
   "id": "29de8dccbd311ff3"
  },
  {
   "cell_type": "markdown",
   "source": [
    "The data correctly displays a 5x1283 matrix with 1280 columns representing the embeddings from the esm model, the associated sequence, id for the sequence, and its class. Now class imbalance must be assessed."
   ],
   "metadata": {
    "collapsed": false
   },
   "id": "2fa271e91fd901a2"
  },
  {
   "cell_type": "code",
   "execution_count": 17,
   "outputs": [
    {
     "data": {
      "text/plain": "<Figure size 640x480 with 1 Axes>",
      "image/png": "[encoded data removed]"
     },
     "metadata": {},
     "output_type": "display_data"
    }
   ],
   "source": [
    "class_counts = df['class'].value_counts()\n",
    "\n",
    "bar_plot = plt.bar(class_counts.index,class_counts.values, color=['r','b'])\n",
    "plt.title('Class Counts')\n",
    "plt.xlabel('Class')\n",
    "plt.ylabel('n')\n",
    "plt.xticks([0,1])\n",
    "plt.bar_label(bar_plot, labels=class_counts.values)\n",
    "plt.show()"
   ],
   "metadata": {
    "collapsed": false,
    "ExecuteTime": {
     "end_time": "2025-10-26T21:13:36.633917100Z",
     "start_time": "2025-10-26T21:13:36.454858900Z"
    }
   },
   "id": "2c17a6a02dd25645"
  },
  {
   "cell_type": "markdown",
   "source": [
    "The plot above shows that the dataset is balanced with 1133 observations of each class."
   ],
   "metadata": {
    "collapsed": false
   },
   "id": "5ae732f75a4c724e"
  },
  {
   "cell_type": "markdown",
   "source": [
    "## Base Model Construction and Evaluation\n",
    "\n",
    "Three models will be built using k-fold validation and key statistics such as AUC-ROC and F1 score compared."
   ],
   "metadata": {
    "collapsed": false
   },
   "id": "b37252c7d807681f"
  }
 ],
 "metadata": {
  "kernelspec": {
   "display_name": "Python 3",
   "language": "python",
   "name": "python3"
  },
  "language_info": {
   "codemirror_mode": {
    "name": "ipython",
    "version": 2
   },
   "file_extension": ".py",
   "mimetype": "text/x-python",
   "name": "python",
   "nbconvert_exporter": "python",
   "pygments_lexer": "ipython2",
   "version": "2.7.6"
  }
 },
 "nbformat": 4,
 "nbformat_minor": 5
}
