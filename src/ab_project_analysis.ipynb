{
 "cells": [
  {
   "cell_type": "markdown",
   "source": [
    "# Antibody Classifier Analysis\n",
    "\n",
    "## Introduction\n",
    "\n",
    "This report will present final analysis on processed antibody data acquired from [OAS](https://opig.stats.ox.ac.uk/webapps/oas/dataunit?unit=Briney_2019/csv/SRR8283601_1_Heavy_Bulk.csv.gz) and the [Therapeutic Structural Antibody Database](https://opig.stats.ox.ac.uk/webapps/sabdab-sabpred/therasabdab/search/). The purpose of this project is to take raw antibody sequences and build an automated pipeline using Snakemake that builds and processes them with a protein language model to generate embeddings which will be used to train a stacked ensemble model classifier to predict the binding potential of a given antibody sequence.\n",
    "\n",
    "### Biological Background and ML approach\n",
    "\n",
    "When considering the results of this notebook there are two key biological considerations regarding how the data was chosen the reader must be aware of. First, Bulk antibody data pulled from OAS serves as a proxy for non-binding antibodies and the TheraSAbDab data serves as a proxy for binding antibodies. While this is acceptable for a machine learning project, it should be noted that a more robust approach suitable for therapeutic applications requires experimentally verified binding data. Second, in order to make the data manageable, only sequence data for the [variable heavy domain](https://www.ncbi.nlm.nih.gov/books/NBK27144) of a given antibody was used. [This is because the *majority* of binding variation in antibodies is determined by the variable heavy domain](https://pmc.ncbi.nlm.nih.gov/articles/PMC4941225).\n",
    "\n",
    "The dataset for the non-binding proxy was pulled from a nature publication by [Briney et. al.](https://www.nature.com/articles/s41586-019-0879-y) the original study was focused on highlighting baseline commonalities in human antibodies despite the number of unique antibodies present approaching one trillion. Because the objective of the study was to analyse a wide range of antibody types, the data was determined to well suited to serve as a stand in for non-therapeutic binding antibodies.\n",
    "\n",
    "The dataset serving as a proxy for binding sites with therapeutic value is from TheraSAbDab. It is carefully curated to contain only antibodies with binding sites known to have therapeutic use and provides the corresponding variable domain sequence.\n",
    "\n",
    "data from both of these datasets were randomized and combined such that a 50/50 split of non-binding, and binding classes was obtained. The sequences in this data set was then fed into the 650 million parameter [esm2](https://github.com/facebookresearch/esm) model and mean-pooled sequence embeddings generated. It should be noted that an antibody specific model may produce better results than the broad protein language model chosen here given unique properties of antibodies.\n",
    "\n",
    "This new dataset with embeddings will be used to train a stacked ensemble classifier from Random Forest, and Xgboost base learners. It should be noted that other properties such as melting point, colloidal stability, solubility, etc. would likely enhance the accuracy of the model but will not be included here."
   ],
   "metadata": {
    "collapsed": false
   },
   "id": "65609e5640cf7610"
  },
  {
   "cell_type": "markdown",
   "source": [
    "## EDA\n",
    "\n",
    "A brief exploration of the data performed here will confirm the previous processing steps were correctly performed. This includes checking for class imbalance, confirming the size of the dataset, and checking for any near identical embeddings resulting from clonal variants that were missed during the deduplication step during data processing."
   ],
   "metadata": {
    "collapsed": false
   },
   "id": "2fc7780d560a1adf"
  },
  {
   "cell_type": "code",
   "execution_count": 1,
   "outputs": [],
   "source": [
    "import numpy as np\n",
    "# load packages and data\n",
    "\n",
    "import pandas as pd\n",
    "import matplotlib.pyplot as plt\n",
    "\n",
    "from sklearn.pipeline import make_pipeline\n",
    "from sklearn.metrics import confusion_matrix, f1_score, roc_auc_score\n",
    "from sklearn.metrics.pairwise import cosine_similarity\n",
    "from sklearn.model_selection import train_test_split, RandomizedSearchCV \n",
    "from sklearn.ensemble import GradientBoostingClassifier\n",
    "from sklearn.ensemble import RandomForestClassifier\n",
    "from sklearn.ensemble import StackingClassifier\n",
    "from sklearn.linear_model import LogisticRegression\n",
    "\n",
    "df = pd.read_csv(\"../data/embeds_df.csv\")"
   ],
   "metadata": {
    "collapsed": false,
    "ExecuteTime": {
     "end_time": "2025-10-27T01:36:31.091651300Z",
     "start_time": "2025-10-27T01:36:29.064529600Z"
    }
   },
   "id": "502119d76ac842ff"
  },
  {
   "cell_type": "code",
   "execution_count": 2,
   "outputs": [
    {
     "data": {
      "text/plain": "  sequence_id                                           sequence  class  \\\n0     oas_248  TGAAATCTTCGGAGACCCTGTCCCTCACCTGCACTGTCTCTGGTGG...      0   \n1   thera_432  QAYLQQSGAELVRPGASVKMSCKASGYTFTSYNMHWVKQTPRQGLE...      1   \n2   thera_975  QVQLQQSGPELVKPGALVKISCKASGYTFTNYDIHWVKQRPGQGLE...      1   \n3   oas_12711  GGAATAGGCCTCAGTGAAGGTCTCCTGCAAGGCTTCTGGATACACC...      0   \n4   oas_13342  GTCTTCGGAGACCCTGTCCCTCACCTGCGCTGTCTATGGTGGGTCC...      0   \n\n     em_000    em_001    em_002    em_003    em_004    em_005    em_006  ...  \\\n0 -0.190176 -0.155131 -0.109094 -0.027862  0.662152  0.201676 -0.046191  ...   \n1 -0.203596 -0.021637  0.138602  0.016943  0.136280  0.065213 -0.338449  ...   \n2 -0.093611 -0.064672  0.059400  0.024815  0.191268  0.040335 -0.300456  ...   \n3 -0.198891 -0.137579 -0.121316  0.070521  0.642038  0.200676 -0.054097  ...   \n4 -0.210705 -0.112799 -0.078429  0.107259  0.577013  0.201226 -0.090925  ...   \n\n     em_470    em_471    em_472    em_473    em_474    em_475    em_476  \\\n0 -0.060475 -0.077489  0.233516  0.109763  0.035420  0.220182 -0.212312   \n1  0.097738  0.154735  0.180917 -0.156021 -0.074100 -0.141278 -0.179113   \n2  0.165173  0.088541  0.017032 -0.043517 -0.055917 -0.056035 -0.339277   \n3 -0.280824 -0.043928  0.310932  0.074602  0.093365  0.327380 -0.188139   \n4 -0.257420 -0.071330  0.237538  0.079526  0.101699  0.275856 -0.215858   \n\n     em_477    em_478    em_479  \n0  0.420229  0.095845  0.304392  \n1  0.186787 -0.153930 -0.192463  \n2  0.237943 -0.167897 -0.221095  \n3  0.382039  0.168869  0.311335  \n4  0.385863  0.133935  0.272946  \n\n[5 rows x 483 columns]",
      "text/html": "<div>\n<style scoped>\n    .dataframe tbody tr th:only-of-type {\n        vertical-align: middle;\n    }\n\n    .dataframe tbody tr th {\n        vertical-align: top;\n    }\n\n    .dataframe thead th {\n        text-align: right;\n    }\n</style>\n<table border=\"1\" class=\"dataframe\">\n  <thead>\n    <tr style=\"text-align: right;\">\n      <th></th>\n      <th>sequence_id</th>\n      <th>sequence</th>\n      <th>class</th>\n      <th>em_000</th>\n      <th>em_001</th>\n      <th>em_002</th>\n      <th>em_003</th>\n      <th>em_004</th>\n      <th>em_005</th>\n      <th>em_006</th>\n      <th>...</th>\n      <th>em_470</th>\n      <th>em_471</th>\n      <th>em_472</th>\n      <th>em_473</th>\n      <th>em_474</th>\n      <th>em_475</th>\n      <th>em_476</th>\n      <th>em_477</th>\n      <th>em_478</th>\n      <th>em_479</th>\n    </tr>\n  </thead>\n  <tbody>\n    <tr>\n      <th>0</th>\n      <td>oas_248</td>\n      <td>TGAAATCTTCGGAGACCCTGTCCCTCACCTGCACTGTCTCTGGTGG...</td>\n      <td>0</td>\n      <td>-0.190176</td>\n      <td>-0.155131</td>\n      <td>-0.109094</td>\n      <td>-0.027862</td>\n      <td>0.662152</td>\n      <td>0.201676</td>\n      <td>-0.046191</td>\n      <td>...</td>\n      <td>-0.060475</td>\n      <td>-0.077489</td>\n      <td>0.233516</td>\n      <td>0.109763</td>\n      <td>0.035420</td>\n      <td>0.220182</td>\n      <td>-0.212312</td>\n      <td>0.420229</td>\n      <td>0.095845</td>\n      <td>0.304392</td>\n    </tr>\n    <tr>\n      <th>1</th>\n      <td>thera_432</td>\n      <td>QAYLQQSGAELVRPGASVKMSCKASGYTFTSYNMHWVKQTPRQGLE...</td>\n      <td>1</td>\n      <td>-0.203596</td>\n      <td>-0.021637</td>\n      <td>0.138602</td>\n      <td>0.016943</td>\n      <td>0.136280</td>\n      <td>0.065213</td>\n      <td>-0.338449</td>\n      <td>...</td>\n      <td>0.097738</td>\n      <td>0.154735</td>\n      <td>0.180917</td>\n      <td>-0.156021</td>\n      <td>-0.074100</td>\n      <td>-0.141278</td>\n      <td>-0.179113</td>\n      <td>0.186787</td>\n      <td>-0.153930</td>\n      <td>-0.192463</td>\n    </tr>\n    <tr>\n      <th>2</th>\n      <td>thera_975</td>\n      <td>QVQLQQSGPELVKPGALVKISCKASGYTFTNYDIHWVKQRPGQGLE...</td>\n      <td>1</td>\n      <td>-0.093611</td>\n      <td>-0.064672</td>\n      <td>0.059400</td>\n      <td>0.024815</td>\n      <td>0.191268</td>\n      <td>0.040335</td>\n      <td>-0.300456</td>\n      <td>...</td>\n      <td>0.165173</td>\n      <td>0.088541</td>\n      <td>0.017032</td>\n      <td>-0.043517</td>\n      <td>-0.055917</td>\n      <td>-0.056035</td>\n      <td>-0.339277</td>\n      <td>0.237943</td>\n      <td>-0.167897</td>\n      <td>-0.221095</td>\n    </tr>\n    <tr>\n      <th>3</th>\n      <td>oas_12711</td>\n      <td>GGAATAGGCCTCAGTGAAGGTCTCCTGCAAGGCTTCTGGATACACC...</td>\n      <td>0</td>\n      <td>-0.198891</td>\n      <td>-0.137579</td>\n      <td>-0.121316</td>\n      <td>0.070521</td>\n      <td>0.642038</td>\n      <td>0.200676</td>\n      <td>-0.054097</td>\n      <td>...</td>\n      <td>-0.280824</td>\n      <td>-0.043928</td>\n      <td>0.310932</td>\n      <td>0.074602</td>\n      <td>0.093365</td>\n      <td>0.327380</td>\n      <td>-0.188139</td>\n      <td>0.382039</td>\n      <td>0.168869</td>\n      <td>0.311335</td>\n    </tr>\n    <tr>\n      <th>4</th>\n      <td>oas_13342</td>\n      <td>GTCTTCGGAGACCCTGTCCCTCACCTGCGCTGTCTATGGTGGGTCC...</td>\n      <td>0</td>\n      <td>-0.210705</td>\n      <td>-0.112799</td>\n      <td>-0.078429</td>\n      <td>0.107259</td>\n      <td>0.577013</td>\n      <td>0.201226</td>\n      <td>-0.090925</td>\n      <td>...</td>\n      <td>-0.257420</td>\n      <td>-0.071330</td>\n      <td>0.237538</td>\n      <td>0.079526</td>\n      <td>0.101699</td>\n      <td>0.275856</td>\n      <td>-0.215858</td>\n      <td>0.385863</td>\n      <td>0.133935</td>\n      <td>0.272946</td>\n    </tr>\n  </tbody>\n</table>\n<p>5 rows × 483 columns</p>\n</div>"
     },
     "execution_count": 2,
     "metadata": {},
     "output_type": "execute_result"
    }
   ],
   "source": [
    "df.head()"
   ],
   "metadata": {
    "collapsed": false,
    "ExecuteTime": {
     "end_time": "2025-10-27T01:36:31.116262500Z",
     "start_time": "2025-10-27T01:36:31.103224500Z"
    }
   },
   "id": "29de8dccbd311ff3"
  },
  {
   "cell_type": "markdown",
   "source": [
    "The data correctly displays a 5x1283 matrix with 1280 columns representing the embeddings from the esm model, the associated sequence, id for the sequence, and its class. Now class imbalance must be assessed."
   ],
   "metadata": {
    "collapsed": false
   },
   "id": "2fa271e91fd901a2"
  },
  {
   "cell_type": "code",
   "execution_count": 3,
   "outputs": [
    {
     "data": {
      "text/plain": "<Figure size 640x480 with 1 Axes>",
      "image/png": "[encoded data removed]"
     },
     "metadata": {},
     "output_type": "display_data"
    }
   ],
   "source": [
    "class_counts = df['class'].value_counts()\n",
    "\n",
    "bar_plot = plt.bar(class_counts.index,class_counts.values, color=['r','b'])\n",
    "plt.title('Class Counts')\n",
    "plt.xlabel('Class')\n",
    "plt.ylabel('n')\n",
    "plt.xticks([0,1])\n",
    "plt.bar_label(bar_plot, labels=class_counts.values)\n",
    "plt.show()"
   ],
   "metadata": {
    "collapsed": false,
    "ExecuteTime": {
     "end_time": "2025-10-27T01:36:31.301277Z",
     "start_time": "2025-10-27T01:36:31.118770Z"
    }
   },
   "id": "2c17a6a02dd25645"
  },
  {
   "cell_type": "markdown",
   "source": [
    "The plot above shows that the dataset is balanced with 1133 observations of each class."
   ],
   "metadata": {
    "collapsed": false
   },
   "id": "5ae732f75a4c724e"
  },
  {
   "cell_type": "markdown",
   "source": [
    "## Base Model Construction and Evaluation\n",
    "\n",
    "Base models will be built using k-fold validation and key statistics such as AUC-ROC and F1 score compared.\n",
    "\n",
    "### Splitting the Data\n",
    "\n",
    "An initial 80/20 split of the data will be created"
   ],
   "metadata": {
    "collapsed": false
   },
   "id": "b37252c7d807681f"
  },
  {
   "cell_type": "code",
   "execution_count": 4,
   "outputs": [],
   "source": [
    "X, y = df.iloc[:, 3:], df['class']\n",
    "\n",
    "X_train, X_test, y_train, y_test = train_test_split(\n",
    "    X, y, test_size=0.30, random_state=42, stratify=y)"
   ],
   "metadata": {
    "collapsed": false,
    "ExecuteTime": {
     "end_time": "2025-10-27T01:36:31.301277Z",
     "start_time": "2025-10-27T01:36:31.241532800Z"
    }
   },
   "id": "2006dcb0204e3211"
  },
  {
   "cell_type": "markdown",
   "source": [
    "### Random Forest"
   ],
   "metadata": {
    "collapsed": false
   },
   "id": "939a96ce44495bad"
  },
  {
   "cell_type": "code",
   "execution_count": 5,
   "outputs": [
    {
     "data": {
      "text/plain": "1.0"
     },
     "execution_count": 5,
     "metadata": {},
     "output_type": "execute_result"
    }
   ],
   "source": [
    "clf = RandomForestClassifier()\n",
    "clf.fit(X_train, y_train)\n",
    "\n",
    "forest_preds = clf.predict(X_test)\n",
    "\n",
    "clf.score(X_test, y_test)"
   ],
   "metadata": {
    "collapsed": false,
    "ExecuteTime": {
     "end_time": "2025-10-27T01:36:31.698342800Z",
     "start_time": "2025-10-27T01:36:31.261099Z"
    }
   },
   "id": "462f0df45df3831f"
  },
  {
   "cell_type": "markdown",
   "source": [
    "### Xgboost tree"
   ],
   "metadata": {
    "collapsed": false
   },
   "id": "d4985e3e40609068"
  },
  {
   "cell_type": "code",
   "execution_count": 6,
   "outputs": [
    {
     "data": {
      "text/plain": "1.0"
     },
     "execution_count": 6,
     "metadata": {},
     "output_type": "execute_result"
    }
   ],
   "source": [
    "clf_boost = GradientBoostingClassifier().fit(X_train, y_train)\n",
    "clf_boost.score(X_test, y_test)"
   ],
   "metadata": {
    "collapsed": false,
    "ExecuteTime": {
     "end_time": "2025-10-27T01:36:40.745778Z",
     "start_time": "2025-10-27T01:36:31.698342800Z"
    }
   },
   "id": "4a5c2274fc99dace"
  },
  {
   "cell_type": "code",
   "execution_count": 9,
   "outputs": [
    {
     "name": "stdout",
     "output_type": "stream",
     "text": [
      "============================================================\n",
      "DATASET DIAGNOSTICS\n",
      "============================================================\n",
      "\n",
      "Total samples: 2096\n",
      "Number of features: 480\n",
      "\n",
      "Class distribution:\n",
      "0    1048\n",
      "1    1048\n",
      "Name: count, dtype: int64\n",
      "\n",
      "Class proportions:\n",
      "0    0.5\n",
      "1    0.5\n",
      "Name: proportion, dtype: float64\n",
      "\n",
      "--- DUPLICATE CHECK ---\n",
      "Duplicate sequences: 0\n",
      "Duplicate embeddings: 0\n",
      "\n",
      "--- EMBEDDING QUALITY CHECK ---\n",
      "Embedding mean: 0.0024\n",
      "Embedding std: 0.2265\n",
      "Zero variance features: 0\n",
      "Constant embeddings (all same): 0\n",
      "\n",
      "--- SEPARABILITY CHECK ---\n",
      "Min pairwise distance: 0.370106\n",
      "Max pairwise distance: 7.747612\n",
      "Mean pairwise distance: 3.972631\n",
      "\n",
      "--- TRAIN/TEST SPLIT ---\n",
      "Train size: 1676\n",
      "Test size: 420\n",
      "Train class distribution: [838 838]\n",
      "Test class distribution: [210 210]\n",
      "\n",
      "============================================================\n",
      "BASELINE: DUMMY CLASSIFIER (Most Frequent)\n",
      "============================================================\n",
      "Accuracy: 0.5000\n",
      "\n",
      "Confusion Matrix:\n",
      "[[210   0]\n",
      " [210   0]]\n",
      "\n",
      "============================================================\n",
      "LOGISTIC REGRESSION (C=1.0)\n",
      "============================================================\n",
      "Train Accuracy: 1.0000\n",
      "Test Accuracy: 1.0000\n",
      "\n",
      "Confusion Matrix:\n",
      "[[210   0]\n",
      " [  0 210]]\n",
      "\n",
      "Classification Report:\n",
      "              precision    recall  f1-score   support\n",
      "\n",
      "           0       1.00      1.00      1.00       210\n",
      "           1       1.00      1.00      1.00       210\n",
      "\n",
      "    accuracy                           1.00       420\n",
      "   macro avg       1.00      1.00      1.00       420\n",
      "weighted avg       1.00      1.00      1.00       420\n",
      "\n",
      "\n",
      "ROC-AUC: 1.0000\n",
      "\n",
      "--- MEMORIZATION CHECK ---\n",
      "Accuracy with SHUFFLED labels: 0.4762\n",
      "(Should be ~chance level if model is learning real patterns)\n",
      "\n",
      "============================================================\n",
      "RANDOM FOREST (max_depth=3, n_estimators=10)\n",
      "============================================================\n",
      "Train Accuracy: 1.0000\n",
      "Test Accuracy: 1.0000\n",
      "\n",
      "Confusion Matrix:\n",
      "[[210   0]\n",
      " [  0 210]]\n",
      "\n",
      "--- TOP 10 MOST IMPORTANT FEATURES ---\n",
      "em_275: 0.2000\n",
      "em_156: 0.1000\n",
      "em_059: 0.1000\n",
      "em_329: 0.1000\n",
      "em_026: 0.1000\n",
      "em_068: 0.1000\n",
      "em_012: 0.1000\n",
      "em_112: 0.1000\n",
      "em_287: 0.1000\n",
      "em_164: 0.0000\n",
      "\n",
      "============================================================\n",
      "DIAGNOSIS SUMMARY\n",
      "============================================================\n",
      "\n",
      "If you see:\n",
      "1. Test accuracy = 1.0 but shuffled labels also high → Data leakage\n",
      "2. Test accuracy = 1.0 and train accuracy = 1.0 → Overfitting or leakage\n",
      "3. Many duplicate embeddings → Problem with embedding generation\n",
      "4. Train >> Test accuracy with simple model → Normal (some overfitting)\n",
      "5. Dummy classifier near perfect → Severe class imbalance issue\n"
     ]
    }
   ],
   "source": [
    "import pandas as pd\n",
    "import numpy as np\n",
    "from sklearn.model_selection import train_test_split\n",
    "from sklearn.linear_model import LogisticRegression\n",
    "from sklearn.ensemble import RandomForestClassifier\n",
    "from sklearn.metrics import (\n",
    "    accuracy_score, \n",
    "    confusion_matrix, \n",
    "    classification_report,\n",
    "    roc_auc_score\n",
    ")\n",
    "from sklearn.dummy import DummyClassifier\n",
    "\n",
    "# Load your data\n",
    "df = pd.read_csv(\"../data/embeds_df.csv\")\n",
    "\n",
    "# Identify embedding columns (assuming they start with 'em_')\n",
    "embed_cols = [col for col in df.columns if col.startswith('em_')]\n",
    "X = df[embed_cols].values\n",
    "y = df['class'].values  # Replace with your actual target column\n",
    "\n",
    "print(\"=\" * 60)\n",
    "print(\"DATASET DIAGNOSTICS\")\n",
    "print(\"=\" * 60)\n",
    "\n",
    "# 1. Basic info\n",
    "print(f\"\\nTotal samples: {len(df)}\")\n",
    "print(f\"Number of features: {len(embed_cols)}\")\n",
    "print(f\"\\nClass distribution:\")\n",
    "print(pd.Series(y).value_counts())\n",
    "print(f\"\\nClass proportions:\")\n",
    "print(pd.Series(y).value_counts(normalize=True))\n",
    "\n",
    "# 2. Check for duplicates\n",
    "print(f\"\\n--- DUPLICATE CHECK ---\")\n",
    "print(f\"Duplicate sequences: {df.duplicated(subset=['sequence']).sum()}\")\n",
    "print(f\"Duplicate embeddings: {df[embed_cols].duplicated().sum()}\")\n",
    "\n",
    "# 3. Check embedding variance\n",
    "print(f\"\\n--- EMBEDDING QUALITY CHECK ---\")\n",
    "print(f\"Embedding mean: {X.mean():.4f}\")\n",
    "print(f\"Embedding std: {X.std():.4f}\")\n",
    "print(f\"Zero variance features: {(X.std(axis=0) == 0).sum()}\")\n",
    "print(f\"Constant embeddings (all same): {(X.std(axis=0) < 1e-10).sum()}\")\n",
    "\n",
    "# 4. Check if embeddings are suspiciously separable\n",
    "from scipy.spatial.distance import pdist, squareform\n",
    "print(f\"\\n--- SEPARABILITY CHECK ---\")\n",
    "# Sample if dataset is large\n",
    "sample_size = min(100, len(X))\n",
    "X_sample = X[:sample_size]\n",
    "y_sample = y[:sample_size]\n",
    "dists = pdist(X_sample)\n",
    "print(f\"Min pairwise distance: {dists.min():.6f}\")\n",
    "print(f\"Max pairwise distance: {dists.max():.6f}\")\n",
    "print(f\"Mean pairwise distance: {dists.mean():.6f}\")\n",
    "\n",
    "# 5. Train/test split\n",
    "X_train, X_test, y_train, y_test = train_test_split(\n",
    "    X, y, test_size=0.2, random_state=42, stratify=y\n",
    ")\n",
    "\n",
    "print(f\"\\n--- TRAIN/TEST SPLIT ---\")\n",
    "print(f\"Train size: {len(X_train)}\")\n",
    "print(f\"Test size: {len(X_test)}\")\n",
    "print(f\"Train class distribution: {np.bincount(y_train)}\")\n",
    "print(f\"Test class distribution: {np.bincount(y_test)}\")\n",
    "\n",
    "# 6. Baseline - Dummy Classifier (predicts most frequent class)\n",
    "print(\"\\n\" + \"=\" * 60)\n",
    "print(\"BASELINE: DUMMY CLASSIFIER (Most Frequent)\")\n",
    "print(\"=\" * 60)\n",
    "dummy = DummyClassifier(strategy='most_frequent')\n",
    "dummy.fit(X_train, y_train)\n",
    "y_pred_dummy = dummy.predict(X_test)\n",
    "print(f\"Accuracy: {accuracy_score(y_test, y_pred_dummy):.4f}\")\n",
    "print(\"\\nConfusion Matrix:\")\n",
    "print(confusion_matrix(y_test, y_pred_dummy))\n",
    "\n",
    "# 7. Simple Logistic Regression (no regularization)\n",
    "print(\"\\n\" + \"=\" * 60)\n",
    "print(\"LOGISTIC REGRESSION (C=1.0)\")\n",
    "print(\"=\" * 60)\n",
    "lr = LogisticRegression(max_iter=1000, random_state=42)\n",
    "lr.fit(X_train, y_train)\n",
    "y_pred_lr = lr.predict(X_test)\n",
    "y_prob_lr = lr.predict_proba(X_test)\n",
    "\n",
    "print(f\"Train Accuracy: {accuracy_score(y_train, lr.predict(X_train)):.4f}\")\n",
    "print(f\"Test Accuracy: {accuracy_score(y_test, y_pred_lr):.4f}\")\n",
    "print(\"\\nConfusion Matrix:\")\n",
    "print(confusion_matrix(y_test, y_pred_lr))\n",
    "print(\"\\nClassification Report:\")\n",
    "print(classification_report(y_test, y_pred_lr))\n",
    "\n",
    "if len(np.unique(y)) == 2:\n",
    "    print(f\"\\nROC-AUC: {roc_auc_score(y_test, y_prob_lr[:, 1]):.4f}\")\n",
    "\n",
    "# 8. Check if model is just memorizing\n",
    "print(\"\\n--- MEMORIZATION CHECK ---\")\n",
    "# Try with shuffled labels - should get ~50% if not memorizing\n",
    "X_train_shuf, X_test_shuf, y_train_shuf, y_test_shuf = train_test_split(\n",
    "    X, np.random.permutation(y), test_size=0.2, random_state=42\n",
    ")\n",
    "lr_shuf = LogisticRegression(max_iter=1000, random_state=42)\n",
    "lr_shuf.fit(X_train_shuf, y_train_shuf)\n",
    "print(f\"Accuracy with SHUFFLED labels: {accuracy_score(y_test_shuf, lr_shuf.predict(X_test_shuf)):.4f}\")\n",
    "print(\"(Should be ~chance level if model is learning real patterns)\")\n",
    "\n",
    "# 9. Random Forest with limited depth\n",
    "print(\"\\n\" + \"=\" * 60)\n",
    "print(\"RANDOM FOREST (max_depth=3, n_estimators=10)\")\n",
    "print(\"=\" * 60)\n",
    "rf_simple = RandomForestClassifier(\n",
    "    n_estimators=10, \n",
    "    max_depth=3, \n",
    "    random_state=42,\n",
    "    min_samples_leaf=10  # Prevent overfitting\n",
    ")\n",
    "rf_simple.fit(X_train, y_train)\n",
    "y_pred_rf = rf_simple.predict(X_test)\n",
    "\n",
    "print(f\"Train Accuracy: {accuracy_score(y_train, rf_simple.predict(X_train)):.4f}\")\n",
    "print(f\"Test Accuracy: {accuracy_score(y_test, y_pred_rf):.4f}\")\n",
    "print(\"\\nConfusion Matrix:\")\n",
    "print(confusion_matrix(y_test, y_pred_rf))\n",
    "\n",
    "# 10. Feature importance check (top 10)\n",
    "print(\"\\n--- TOP 10 MOST IMPORTANT FEATURES ---\")\n",
    "importances = rf_simple.feature_importances_\n",
    "top_idx = np.argsort(importances)[-10:][::-1]\n",
    "for idx in top_idx:\n",
    "    print(f\"{embed_cols[idx]}: {importances[idx]:.4f}\")\n",
    "\n",
    "print(\"\\n\" + \"=\" * 60)\n",
    "print(\"DIAGNOSIS SUMMARY\")\n",
    "print(\"=\" * 60)\n",
    "print(\"\\nIf you see:\")\n",
    "print(\"1. Test accuracy = 1.0 but shuffled labels also high → Data leakage\")\n",
    "print(\"2. Test accuracy = 1.0 and train accuracy = 1.0 → Overfitting or leakage\")\n",
    "print(\"3. Many duplicate embeddings → Problem with embedding generation\")\n",
    "print(\"4. Train >> Test accuracy with simple model → Normal (some overfitting)\")\n",
    "print(\"5. Dummy classifier near perfect → Severe class imbalance issue\")"
   ],
   "metadata": {
    "collapsed": false,
    "ExecuteTime": {
     "end_time": "2025-10-27T01:39:31.778574900Z",
     "start_time": "2025-10-27T01:39:29.261980300Z"
    }
   },
   "id": "768447f8aec5e4a1"
  },
  {
   "cell_type": "markdown",
   "source": [],
   "metadata": {
    "collapsed": false
   },
   "id": "b636756cd6389fdc"
  },
  {
   "cell_type": "markdown",
   "source": [],
   "metadata": {
    "collapsed": false
   },
   "id": "579275eb2b44a1d7"
  }
 ],
 "metadata": {
  "kernelspec": {
   "display_name": "Python 3",
   "language": "python",
   "name": "python3"
  },
  "language_info": {
   "codemirror_mode": {
    "name": "ipython",
    "version": 2
   },
   "file_extension": ".py",
   "mimetype": "text/x-python",
   "name": "python",
   "nbconvert_exporter": "python",
   "pygments_lexer": "ipython2",
   "version": "2.7.6"
  }
 },
 "nbformat": 4,
 "nbformat_minor": 5
}
